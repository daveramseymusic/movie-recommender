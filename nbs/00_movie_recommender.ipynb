{
 "cells": [
  {
   "cell_type": "markdown",
   "id": "43ba360b",
   "metadata": {},
   "source": [
    "# FastAI Movie Recommender Step-by-Step\n",
    "> An app where you can type in your favorite movie and it will suggest 30 movies similar to i t using a collaborative filtering model trained on over 9million movie reviews."
   ]
  },
  {
   "cell_type": "code",
   "execution_count": null,
   "id": "0f662b1e",
   "metadata": {},
   "outputs": [],
   "source": [
    "#| default_exp movie_recommender"
   ]
  },
  {
   "cell_type": "markdown",
   "id": "f5bc7520",
   "metadata": {},
   "source": [
    "### Makes sure all your libraries and packages are installed and loaded."
   ]
  },
  {
   "cell_type": "markdown",
   "id": "11126279",
   "metadata": {},
   "source": [
    "[Fastai](https://youtu.be/p4ZZq0736Po?t=3724) is the library we use to train, load and run our model.  NB: we already trained our model so we'll only be loading it here."
   ]
  },
  {
   "cell_type": "code",
   "execution_count": null,
   "id": "8d8af030",
   "metadata": {},
   "outputs": [],
   "source": [
    "#!pip install -Uqq fastai "
   ]
  },
  {
   "cell_type": "markdown",
   "id": "787ee3b3",
   "metadata": {},
   "source": [
    "[Gradio](https://gradio.app/getting_started/) allows you to easily publish your model onto the web for peope to use."
   ]
  },
  {
   "cell_type": "code",
   "execution_count": null,
   "id": "ef590d16",
   "metadata": {},
   "outputs": [],
   "source": [
    "# !pip install gradio"
   ]
  },
  {
   "cell_type": "markdown",
   "id": "8027e733",
   "metadata": {},
   "source": [
    "[nbdev](https://nbdev.fast.ai/tutorials/tutorial.html) is what we're using to make this documentation easier and more presentable."
   ]
  },
  {
   "cell_type": "code",
   "execution_count": null,
   "id": "2ebe467e",
   "metadata": {},
   "outputs": [],
   "source": [
    "# !pip install nbdev"
   ]
  },
  {
   "cell_type": "code",
   "execution_count": null,
   "id": "36c06b3f",
   "metadata": {},
   "outputs": [],
   "source": [
    "#| hide\n",
    "from nbdev.showdoc import *"
   ]
  },
  {
   "cell_type": "markdown",
   "id": "a3b8317c",
   "metadata": {},
   "source": [
    "These are the libraries we need"
   ]
  },
  {
   "cell_type": "code",
   "execution_count": null,
   "id": "af11e277",
   "metadata": {},
   "outputs": [],
   "source": [
    "#| export\n",
    "# For modeling\n",
    "from fastai.tabular.all import *\n",
    "from fastai.collab import *\n",
    "# import torch.nn as nn\n",
    "#for publishing the model\n",
    "import gradio as gr"
   ]
  },
  {
   "cell_type": "code",
   "execution_count": null,
   "id": "5821e9b6",
   "metadata": {},
   "outputs": [],
   "source": [
    "# For modeling\n",
    "from fastai.tabular.all import *\n",
    "from fastai.collab import *\n",
    "#for publishing the model\n",
    "import gradio as gr"
   ]
  },
  {
   "cell_type": "markdown",
   "id": "a0568e38",
   "metadata": {},
   "source": [
    "# Load model and data loaders or movie title csv\n"
   ]
  },
  {
   "cell_type": "markdown",
   "id": "205580b4",
   "metadata": {},
   "source": [
    "The dataloaders we used to train the model from the 9 million reviews were 200MB so we use a csv instead. To convert from data loaders to pandas DataFrame use code hashtagged out just below"
   ]
  },
  {
   "cell_type": "code",
   "execution_count": null,
   "id": "d779240a",
   "metadata": {},
   "outputs": [],
   "source": [
    "# titles = pd.DataFrame(dls.classes['title']).reset_index() #create df from data loaders(dls)\n",
    "# titles = titles.rename(columns={'index':'midx',0:'title'}) # rename columns"
   ]
  },
  {
   "cell_type": "code",
   "execution_count": null,
   "id": "91ab75fc",
   "metadata": {},
   "outputs": [],
   "source": [
    "#load the model and movie titles with indexes (from the previous data loaders)\n",
    "path = Path('../models_and_dls')\n",
    "learn = load_learner(path/'movie_predictor_large20mil_639.pkl')\n",
    "titles = pd.read_csv(path/'movie_20mil_dls.csv')"
   ]
  },
  {
   "cell_type": "markdown",
   "id": "6fbe7e04",
   "metadata": {},
   "source": [
    "# Functions for Model Inference"
   ]
  },
  {
   "cell_type": "code",
   "execution_count": null,
   "id": "40b11ce4",
   "metadata": {},
   "outputs": [],
   "source": [
    "#| export\n",
    "def get_movie_recs(full_title:str, # String saved to `favorite_movie` variable\n",
    "                   learn,# Trained Model\n",
    "                   titles #DataFrame with all movie titles from dls\n",
    "                        ):\n",
    "    \"This function will use the `nn.CosineSimilarity` on the 50 latent factors for each movie to find the 30 movies most similar to your favorite movie.\"\n",
    "    movie_factors = learn.model.i_weight.weight\n",
    "    idx = int(titles[titles.title == full_title].midx)\n",
    "    distances =  nn.CosineSimilarity(dim=1)(movie_factors,movie_factors[idx][None])\n",
    "    idx = distances.argsort(descending=True)\n",
    "    return [o for o in titles.title[idx.tolist()][:30]]"
   ]
  },
  {
   "cell_type": "code",
   "execution_count": null,
   "id": "00cd158a",
   "metadata": {},
   "outputs": [
    {
     "data": {
      "text/markdown": [
       "---\n",
       "\n",
       "[source](https://github.com/daveramseymusic/movie-recommender/blob/main/movie_recommender/movie_recommender.py#L28){target=\"_blank\" style=\"float:right; font-size:smaller\"}\n",
       "\n",
       "### get_movie_recs\n",
       "\n",
       ">      get_movie_recs (full_title:str, learn, titles)\n",
       "\n",
       "This function will use the `nn.CosineSimilarity` on the 50 latent factors for each movie to find the 30 movies most similar to your favorite movie.\n",
       "\n",
       "|    | **Type** | **Details** |\n",
       "| -- | -------- | ----------- |\n",
       "| full_title | str | String saved to `favorite_movie` variable |\n",
       "| learn |  | Trained Model |\n",
       "| titles |  | DataFrame with all movie titles from dls |"
      ],
      "text/plain": [
       "---\n",
       "\n",
       "[source](https://github.com/daveramseymusic/movie-recommender/blob/main/movie_recommender/movie_recommender.py#L28){target=\"_blank\" style=\"float:right; font-size:smaller\"}\n",
       "\n",
       "### get_movie_recs\n",
       "\n",
       ">      get_movie_recs (full_title:str, learn, titles)\n",
       "\n",
       "This function will use the `nn.CosineSimilarity` on the 50 latent factors for each movie to find the 30 movies most similar to your favorite movie.\n",
       "\n",
       "|    | **Type** | **Details** |\n",
       "| -- | -------- | ----------- |\n",
       "| full_title | str | String saved to `favorite_movie` variable |\n",
       "| learn |  | Trained Model |\n",
       "| titles |  | DataFrame with all movie titles from dls |"
      ]
     },
     "execution_count": null,
     "metadata": {},
     "output_type": "execute_result"
    }
   ],
   "source": [
    "show_doc(get_movie_recs)"
   ]
  },
  {
   "cell_type": "code",
   "execution_count": null,
   "id": "6d31b97e",
   "metadata": {},
   "outputs": [],
   "source": [
    "#| export\n",
    "def search_movies_n_recommend(favorite_movie:str, # The movie title typed into the `gr.Textbox()` that the user will see on the `gradio` app\n",
    "                             learn, # Trained model\n",
    "                              titles, # Movie titles df\n",
    "                             ):\n",
    "    \"This function returns 30 recommendations using `get_movie_recs` after searching through all movie titles to find any titles that contain the words in the `favorite_movie` variable.\"\n",
    "    movies_found = ''\n",
    "    s = favorite_movie.lower()\n",
    "    #remove THE from the title\n",
    "    if s[:4] == 'the ':\n",
    "        s = s[4:]\n",
    "\n",
    "    lst = titles['title'].tolist()\n",
    "    index = []\n",
    "    i=0\n",
    "    length = len(lst)\n",
    "    while i<length:\n",
    "        if s in lst[i].lower():\n",
    "            full_title = lst[i]\n",
    "            movies_found+= str(full_title) +'\\n'\n",
    "#             print(f'Your Favorite Movies:  {full_title}')\n",
    "        i+=1\n",
    "    # write explaination in case multiple movies\n",
    "    explainer = f'If there are multiple movies above: Please paste your favorite movie into the \"favorite_movie\" box.\\n The box below is currently showing recommendations for the movie:  {full_title}'\n",
    "    #print movies found and explainer\n",
    "    output_str =  movies_found+'\\n\\n'+explainer\n",
    "    \n",
    "    #get recommendations from model\n",
    "    recommendations = get_movie_recs(full_title, learn,titles) \n",
    "    #create list of all the recommendations to print\n",
    "    print_lst = ''\n",
    "    for o in recommendations:    print_lst =print_lst+str(o) + '\\n'\n",
    "    \n",
    "    \n",
    "#     return  f'Will Recommend for:  {full_title}', output_str, recomendations\n",
    "    return output_str, f'Recommendations for {full_title}: \\n\\n {print_lst}'"
   ]
  },
  {
   "cell_type": "markdown",
   "id": "cd983eb2",
   "metadata": {},
   "source": [
    "# Gradio For Publishing the Model \n",
    ">Now we use `gr.Interface()` to create a block that contains our `search_movies_n_recommend` fuction as well as variables that dictate what will be shown once we publish it on `gradio`"
   ]
  },
  {
   "cell_type": "code",
   "execution_count": null,
   "id": "b31a5548",
   "metadata": {},
   "outputs": [],
   "source": [
    "intf = gr.Interface(fn=search_movies_n_recommend,\n",
    "                    inputs=gr.Textbox(lines=1,placeholder=\"Put Your Favorite Movie Here To See Similar Movie Recommendations...\"),\n",
    "                    outputs=[\"text\",\"text\"],\n",
    "                    examples=['Child\\'s Play (1988)','Rushmore','brothers Bloom',\n",
    "                              'call me by your name', 'Jumanji (1995)','The Three Amigos'],\n",
    "                    title=\"Dave's Fast.AI Movie Recommender\",\n",
    "                    article='This recommender uses a collaborative filtering model fashioned from the [Fast.AI](https://github.com/fastai/fastbook/blob/master/08_collab.ipynb) library and trained on the 9 million movie reviews from the [Movie Lense Dataset](https://grouplens.org/datasets/movielens/25m/).  It trains Latent Factors to give movies and users descriptive weights that help predict thier reivews based on these factors.  The model was trained completely WITHOUT titles, descriptions, or categories and amazingly these things can be added to imporove this model.  Enjoy!'                    )"
   ]
  },
  {
   "cell_type": "markdown",
   "id": "16b5c052",
   "metadata": {},
   "source": [
    "# Actually Try the Model HERE\n",
    ">Now we launch it so it can be used literally here in the `jupyter notebook`"
   ]
  },
  {
   "cell_type": "code",
   "execution_count": null,
   "id": "0432d453",
   "metadata": {},
   "outputs": [
    {
     "name": "stdout",
     "output_type": "stream",
     "text": [
      "Running on local URL:  http://127.0.0.1:7861\n",
      "\n",
      "To create a public link, set `share=True` in `launch()`.\n"
     ]
    },
    {
     "data": {
      "text/html": [
       "<div><iframe src=\"http://127.0.0.1:7861/\" width=\"900\" height=\"500\" allow=\"autoplay; camera; microphone; clipboard-read; clipboard-write;\" frameborder=\"0\" allowfullscreen></iframe></div>"
      ],
      "text/plain": [
       "<IPython.core.display.HTML object>"
      ]
     },
     "metadata": {},
     "output_type": "display_data"
    },
    {
     "data": {
      "text/plain": [
       "(<gradio.routes.App>, 'http://127.0.0.1:7861/', None)"
      ]
     },
     "execution_count": null,
     "metadata": {},
     "output_type": "execute_result"
    }
   ],
   "source": [
    "intf.launch(inline=True, #when True publishes the page in notebook\n",
    "    share=False) #when True automatically publishes the app to the gradio website for 72 hours."
   ]
  },
  {
   "cell_type": "markdown",
   "id": "5f734e78",
   "metadata": {},
   "source": [
    "# Example Without Gradio: \n",
    ">Here is an example of the model being used straight from the `get_movie_recs` function, recommending movies similar to one of my favorites."
   ]
  },
  {
   "cell_type": "code",
   "execution_count": null,
   "id": "0eb26105",
   "metadata": {},
   "outputs": [
    {
     "data": {
      "text/plain": [
       "['Beasts of the Southern Wild (2012)',\n",
       " 'Mina Tannenbaum (1994)',\n",
       " 'Triplets of Belleville, The (Les triplettes de Belleville) (2003)',\n",
       " 'Chasing Mavericks (2012)',\n",
       " 'Bye Bye Brazil (Bye Bye Brasil) (1980)',\n",
       " \"Tale of Winter, A (a.k.a. A Winter's Tale) (Conte d'hiver) (1992)\",\n",
       " 'Coonskin (1975)',\n",
       " 'Nanny, The (1965)',\n",
       " 'Trials of Henry Kissinger, The (2002)',\n",
       " 'Rain Fall (2009)',\n",
       " 'Hail, Caesar! (2016)',\n",
       " 'Freeway (1996)',\n",
       " 'Phantom Boy (2015)',\n",
       " 'The Attic (2008)',\n",
       " 'James and the Giant Peach (1996)',\n",
       " 'Song of the Sea (2014)',\n",
       " 'Bitter Tears of Petra von Kant, The (bitteren Tränen der Petra von Kant, Die) (1972)',\n",
       " 'The Ballad of Buster Scruggs (2018)',\n",
       " 'Bank Dick, The (1940)',\n",
       " 'Salvador (1986)',\n",
       " 'Go-Getter, The (2007)',\n",
       " 'Raining Stones (1993)',\n",
       " 'Easy Street (1917)',\n",
       " 'Scarlet Diva (2000)',\n",
       " 'Kings of Summer, The (2013)',\n",
       " 'My Side of the Mountain (1969)',\n",
       " 'Nashville (1975)',\n",
       " 'Fantastic Mr. Fox (2009)',\n",
       " 'After the Rehearsal (Efter repetitionen) (1984)',\n",
       " 'Touchy Feely (2013)']"
      ]
     },
     "execution_count": null,
     "metadata": {},
     "output_type": "execute_result"
    }
   ],
   "source": [
    "favorite_movie = 'Beasts of the Southern Wild (2012)'\n",
    "\n",
    "get_movie_recs(full_title=favorite_movie, learn=learn, titles=titles)"
   ]
  },
  {
   "cell_type": "code",
   "execution_count": null,
   "id": "8bf92c4d",
   "metadata": {},
   "outputs": [],
   "source": [
    "#| hide\n",
    "import nbdev; nbdev.nbdev_export()"
   ]
  },
  {
   "cell_type": "code",
   "execution_count": null,
   "id": "51631354",
   "metadata": {},
   "outputs": [],
   "source": []
  },
  {
   "cell_type": "code",
   "execution_count": null,
   "id": "4eb5acd4",
   "metadata": {},
   "outputs": [],
   "source": []
  }
 ],
 "metadata": {
  "kernelspec": {
   "display_name": "Python 3",
   "language": "python",
   "name": "python3"
  }
 },
 "nbformat": 4,
 "nbformat_minor": 5
}
