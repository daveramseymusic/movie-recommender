{
 "cells": [
  {
   "cell_type": "markdown",
   "id": "43ba360b",
   "metadata": {},
   "source": [
    "# FastAI Movie Recommender\n",
    "> An app where you can type in your favorite movie and it will suggest 30 movies similar to i t using a collaborative filtering model trained on over 9million movie reviews."
   ]
  },
  {
   "cell_type": "code",
   "execution_count": null,
   "id": "0f662b1e",
   "metadata": {},
   "outputs": [],
   "source": [
    "#| default_exp movie_recommender"
   ]
  },
  {
   "cell_type": "markdown",
   "id": "3e5f876c",
   "metadata": {},
   "source": [
    "# Makes sure all your libraries and packages are installed and loaded."
   ]
  },
  {
   "cell_type": "markdown",
   "id": "11126279",
   "metadata": {},
   "source": [
    "[Fastai](https://youtu.be/p4ZZq0736Po?t=3724) is the library we use to train, load and run our model.  NB: we already trained our model so we'll only be loading it here."
   ]
  },
  {
   "cell_type": "code",
   "execution_count": null,
   "id": "8d8af030",
   "metadata": {},
   "outputs": [],
   "source": [
    "#!pip install -Uqq fastai "
   ]
  },
  {
   "cell_type": "markdown",
   "id": "787ee3b3",
   "metadata": {},
   "source": [
    "[Gradio](https://gradio.app/getting_started/) allows you to easily publish your model onto the web for peope to use."
   ]
  },
  {
   "cell_type": "code",
   "execution_count": null,
   "id": "ef590d16",
   "metadata": {},
   "outputs": [],
   "source": [
    "# !pip install gradio"
   ]
  },
  {
   "cell_type": "markdown",
   "id": "8027e733",
   "metadata": {},
   "source": [
    "[nbdev](https://nbdev.fast.ai/tutorials/tutorial.html) is what we're using to make this documentation easier and more presentable."
   ]
  },
  {
   "cell_type": "code",
   "execution_count": null,
   "id": "2ebe467e",
   "metadata": {},
   "outputs": [],
   "source": [
    "# !pip install nbdev"
   ]
  },
  {
   "cell_type": "code",
   "execution_count": null,
   "id": "36c06b3f",
   "metadata": {},
   "outputs": [],
   "source": [
    "#| hide\n",
    "from nbdev.showdoc import *"
   ]
  },
  {
   "cell_type": "markdown",
   "id": "a3b8317c",
   "metadata": {},
   "source": [
    "These are the libraries we need"
   ]
  },
  {
   "cell_type": "code",
   "execution_count": null,
   "id": "af11e277",
   "metadata": {},
   "outputs": [],
   "source": [
    "# For modeling\n",
    "from fastai.tabular.all import *\n",
    "from fastai.collab import *\n",
    "\n",
    "#for publishing the model\n",
    "import gradio as gr"
   ]
  },
  {
   "cell_type": "code",
   "execution_count": null,
   "id": "119bb17f",
   "metadata": {},
   "outputs": [],
   "source": [
    "#| hide\n",
    "path = Path('../models_and_dls')"
   ]
  },
  {
   "cell_type": "markdown",
   "id": "e9849649",
   "metadata": {},
   "source": [
    "# Load model and data loaders or movie title csv\n"
   ]
  },
  {
   "cell_type": "markdown",
   "id": "205580b4",
   "metadata": {},
   "source": [
    "The dataloaders we used to train the model from the 9 million reviews were 200MB so we use a csv instead. To convert from data loaders to pandas DataFrame use code hashtagged out just below"
   ]
  },
  {
   "cell_type": "code",
   "execution_count": null,
   "id": "d779240a",
   "metadata": {},
   "outputs": [],
   "source": [
    "# titles = pd.DataFrame(dls.classes['title']).reset_index() #create df from data loaders(dls)\n",
    "# titles = titles.rename(columns={'index':'midx',0:'title'}) # rename columns"
   ]
  },
  {
   "cell_type": "code",
   "execution_count": null,
   "id": "119a35f0",
   "metadata": {},
   "outputs": [
    {
     "data": {
      "text/html": [
       "<div>\n",
       "<style scoped>\n",
       "    .dataframe tbody tr th:only-of-type {\n",
       "        vertical-align: middle;\n",
       "    }\n",
       "\n",
       "    .dataframe tbody tr th {\n",
       "        vertical-align: top;\n",
       "    }\n",
       "\n",
       "    .dataframe thead th {\n",
       "        text-align: right;\n",
       "    }\n",
       "</style>\n",
       "<table border=\"1\" class=\"dataframe\">\n",
       "  <thead>\n",
       "    <tr style=\"text-align: right;\">\n",
       "      <th></th>\n",
       "      <th>midx</th>\n",
       "      <th>title</th>\n",
       "    </tr>\n",
       "  </thead>\n",
       "  <tbody>\n",
       "    <tr>\n",
       "      <th>0</th>\n",
       "      <td>0</td>\n",
       "      <td>#na#</td>\n",
       "    </tr>\n",
       "    <tr>\n",
       "      <th>1</th>\n",
       "      <td>1</td>\n",
       "      <td>'burbs, The (1989)</td>\n",
       "    </tr>\n",
       "    <tr>\n",
       "      <th>2</th>\n",
       "      <td>2</td>\n",
       "      <td>(500) Days of Summer (2009)</td>\n",
       "    </tr>\n",
       "    <tr>\n",
       "      <th>3</th>\n",
       "      <td>3</td>\n",
       "      <td>*batteries not included (1987)</td>\n",
       "    </tr>\n",
       "    <tr>\n",
       "      <th>4</th>\n",
       "      <td>4</td>\n",
       "      <td>...And Justice for All (1979)</td>\n",
       "    </tr>\n",
       "  </tbody>\n",
       "</table>\n",
       "</div>"
      ],
      "text/plain": [
       "   midx                           title\n",
       "0     0                            #na#\n",
       "1     1              'burbs, The (1989)\n",
       "2     2     (500) Days of Summer (2009)\n",
       "3     3  *batteries not included (1987)\n",
       "4     4   ...And Justice for All (1979)"
      ]
     },
     "execution_count": null,
     "metadata": {},
     "output_type": "execute_result"
    }
   ],
   "source": [
    "#load your the model and movie titles with indexes (from the previous data loaders)\n",
    "learn = load_learner(path/'model_movie_predictor_large9mil_ds_19_062.pkl')\n",
    "titles = pd.read_csv(path/'movie_9mil_03_df_from_dls.csv'); titles.head()"
   ]
  },
  {
   "cell_type": "markdown",
   "id": "b783dcb3",
   "metadata": {},
   "source": [
    "# Functions for Model Inference"
   ]
  },
  {
   "cell_type": "code",
   "execution_count": null,
   "id": "40b11ce4",
   "metadata": {},
   "outputs": [],
   "source": [
    "#| export\n",
    "def get_movie_recs(full_title):\n",
    "    \"This function will use the `nn.CosineSimilarity` on the 50 latent factors for each movie to find the 30 movies most similar to your favorite movie.\"\n",
    "    movie_factors = learn.model.i_weight.weight\n",
    "    idx = int(titles[titles.title == full_title].midx)\n",
    "    distances =  nn.CosineSimilarity(dim=1)(movie_factors,movie_factors[idx][None])\n",
    "    idx = distances.argsort(descending=True)\n",
    "    return [o for o in titles.title[idx.tolist()][:30]]"
   ]
  },
  {
   "cell_type": "code",
   "execution_count": null,
   "id": "6d31b97e",
   "metadata": {},
   "outputs": [],
   "source": [
    "#| export\n",
    "def search_movies_n_recommend(favorite_movie:str # The movie title typed into the `gr.Textbox()` that the user will see on the `gradio` app\n",
    "                             ):\n",
    "    \"This function returns 30 recommendations using `get_movie_recs` after searching through all movie titles to find any titles that contain the words in the `favorite_movie` variable.\"\n",
    "    movies_found = ''\n",
    "    s = favorite_movie.lower()\n",
    "    #remove THE from the title\n",
    "    if s[:4] == 'the ':\n",
    "        s = s[4:]\n",
    "\n",
    "    lst = titles['title'].tolist()\n",
    "    index = []\n",
    "    i=0\n",
    "    length = len(lst)\n",
    "    while i<length:\n",
    "        if s in lst[i].lower():\n",
    "            full_title = lst[i]\n",
    "            movies_found+= str(full_title) +'\\n'\n",
    "#             print(f'Your Favorite Movies:  {full_title}')\n",
    "        i+=1\n",
    "    # write explaination in case multiple movies\n",
    "    explainer = f'If there are multiple movies above: Please paste your favorite movie into the \"favorite_movie\" box.\\n The box below is currently showing recommendations for the movie:  {full_title}'\n",
    "    #print movies found and explainer\n",
    "    output_str =  movies_found+'\\n\\n'+explainer\n",
    "    \n",
    "    #get recommendations from model\n",
    "    recommendations = get_movie_recs(full_title) \n",
    "    #create list of all the recommendations to print\n",
    "    print_lst = ''\n",
    "    for o in recommendations:    print_lst =print_lst+str(o) + '\\n'\n",
    "    \n",
    "    \n",
    "#     return  f'Will Recommend for:  {full_title}', output_str, recomendations\n",
    "    return output_str, f'Recommendations for {full_title}: \\n\\n {print_lst}'"
   ]
  },
  {
   "cell_type": "markdown",
   "id": "e2129795",
   "metadata": {},
   "source": [
    "# Gradio For Publishing the Model \n",
    ">Now we use `gr.Interface()` to create a block that contains our `search_movies_n_recommend` fuction as well as variables that dictate what will be shown once we publish it on `gradio`"
   ]
  },
  {
   "cell_type": "code",
   "execution_count": null,
   "id": "b31a5548",
   "metadata": {},
   "outputs": [],
   "source": [
    "intf = gr.Interface(fn=search_movies_n_recommend,\n",
    "                    inputs=gr.Textbox(lines=1,placeholder=\"Put Your Favorite Movie Here To See Similar Movie Recommendations...\"),\n",
    "                    outputs=[\"text\",\"text\"],\n",
    "                    examples=['Child\\'s Play (1988)','Rushmore','brothers Bloom',\n",
    "                              'call me by your name', 'Jumanji (1995)','The Three Amigos'],\n",
    "                    title=\"Dave's Fast.AI Movie Recommender\",\n",
    "                    article='This recommender uses a collaborative filtering model fashioned from the [Fast.AI](https://github.com/fastai/fastbook/blob/master/08_collab.ipynb) library and trained on the 9 million movie reviews from the [Movie Lense Dataset](https://grouplens.org/datasets/movielens/25m/).  It trains Latent Factors to give movies and users descriptive weights that help predict thier reivews based on these factors.  The model was trained completely WITHOUT titles, descriptions, or categories and amazingly these things can be added to imporove this model.  Enjoy!'                    )"
   ]
  },
  {
   "cell_type": "markdown",
   "id": "74ecc92e",
   "metadata": {},
   "source": [
    "# Actually Try the Model HERE\n",
    ">Now we launch it so it can be used literally here in the `jupyter notebook`"
   ]
  },
  {
   "cell_type": "code",
   "execution_count": null,
   "id": "0432d453",
   "metadata": {},
   "outputs": [
    {
     "name": "stdout",
     "output_type": "stream",
     "text": [
      "Running on local URL:  http://127.0.0.1:7861\n",
      "\n",
      "To create a public link, set `share=True` in `launch()`.\n"
     ]
    },
    {
     "data": {
      "text/html": [
       "<div><iframe src=\"http://127.0.0.1:7861/\" width=\"900\" height=\"500\" allow=\"autoplay; camera; microphone; clipboard-read; clipboard-write;\" frameborder=\"0\" allowfullscreen></iframe></div>"
      ],
      "text/plain": [
       "<IPython.core.display.HTML object>"
      ]
     },
     "metadata": {},
     "output_type": "display_data"
    },
    {
     "data": {
      "text/plain": [
       "(<gradio.routes.App>, 'http://127.0.0.1:7861/', None)"
      ]
     },
     "execution_count": null,
     "metadata": {},
     "output_type": "execute_result"
    }
   ],
   "source": [
    "intf.launch(inline=True, #when True publishes the page in notebook\n",
    "    share=False) #when True automatcially publishes the app to the gradio website for 72 hours."
   ]
  },
  {
   "cell_type": "markdown",
   "id": "5f734e78",
   "metadata": {},
   "source": [
    "# Example Without Gradio: \n",
    ">Here is an example of the model being used straight from the `get_movie_recs` function, recommending movies similar to one of my favorites."
   ]
  },
  {
   "cell_type": "code",
   "execution_count": null,
   "id": "0eb26105",
   "metadata": {},
   "outputs": [
    {
     "data": {
      "text/plain": [
       "['Beasts of the Southern Wild (2012)',\n",
       " 'Ginger Snaps (2000)',\n",
       " 'Leaving Las Vegas (1995)',\n",
       " 'Being John Malkovich (1999)',\n",
       " 'Little Children (2006)',\n",
       " 'Ghost World (2001)',\n",
       " 'Yellow Submarine (1968)',\n",
       " 'Secret of Roan Inish, The (1994)',\n",
       " 'Louis C.K.: Live at The Comedy Store (2015)',\n",
       " 'Neon Genesis Evangelion: The End of Evangelion (Shin seiki Evangelion Gekijô-ban: Air/Magokoro wo, kimi ni) (1997)',\n",
       " 'Atlantic City (1980)',\n",
       " 'Z (1969)',\n",
       " 'Sex, Lies, and Videotape (1989)',\n",
       " 'Princess and the Warrior, The (Krieger und die Kaiserin, Der) (2000)',\n",
       " 'Act of Killing, The (2012)',\n",
       " 'Birdman: Or (The Unexpected Virtue of Ignorance) (2014)',\n",
       " '24 Hour Party People (2002)',\n",
       " 'Animal Kingdom (2010)',\n",
       " 'Breaking the Waves (1996)',\n",
       " 'Rushmore (1998)',\n",
       " 'Videodrome (1983)',\n",
       " 'Last Night (1998)',\n",
       " 'City of God (Cidade de Deus) (2002)',\n",
       " 'Nosferatu (Nosferatu, eine Symphonie des Grauens) (1922)',\n",
       " 'Shining, The (1980)',\n",
       " 'Underground (1995)',\n",
       " 'Proposition, The (2005)',\n",
       " 'Brothers Bloom, The (2008)',\n",
       " 'Exit Through the Gift Shop (2010)',\n",
       " 'Lost in Translation (2003)']"
      ]
     },
     "execution_count": null,
     "metadata": {},
     "output_type": "execute_result"
    }
   ],
   "source": [
    "favorite_movie = 'Beasts of the Southern Wild (2012)'\n",
    "\n",
    "get_movie_recs(full_title=favorite_movie)"
   ]
  },
  {
   "cell_type": "code",
   "execution_count": null,
   "id": "8bf92c4d",
   "metadata": {},
   "outputs": [],
   "source": [
    "#| hide\n",
    "import nbdev; nbdev.nbdev_export()"
   ]
  },
  {
   "cell_type": "code",
   "execution_count": null,
   "id": "2d3328b3",
   "metadata": {},
   "outputs": [],
   "source": []
  }
 ],
 "metadata": {
  "kernelspec": {
   "display_name": "Python 3",
   "language": "python",
   "name": "python3"
  }
 },
 "nbformat": 4,
 "nbformat_minor": 5
}
