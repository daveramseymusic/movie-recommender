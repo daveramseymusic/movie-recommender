{
 "cells": [
  {
   "cell_type": "code",
   "execution_count": null,
   "metadata": {},
   "outputs": [],
   "source": [
    "#| hide\n",
    "from movie_recommender.movie_recommender import *\n",
    "from fastai.tabular.all import *"
   ]
  },
  {
   "cell_type": "markdown",
   "metadata": {},
   "source": [
    "# movie-recommender\n",
    "\n",
    "> Movie Recommender based on Fast.AI Collaborative Filtering Model"
   ]
  },
  {
   "cell_type": "markdown",
   "metadata": {},
   "source": [
    "This file will become your README and also the index of your documentation."
   ]
  },
  {
   "cell_type": "markdown",
   "metadata": {},
   "source": [
    "## Install"
   ]
  },
  {
   "cell_type": "markdown",
   "metadata": {},
   "source": [
    "```sh\n",
    "pip install movie_recommender\n",
    "```"
   ]
  },
  {
   "cell_type": "markdown",
   "metadata": {},
   "source": [
    "## How to use"
   ]
  },
  {
   "cell_type": "markdown",
   "metadata": {},
   "source": [
    "This lib provides a `get_movie_recs` function to get movie recommendations similar to the movie saved in the `full_title` variable."
   ]
  },
  {
   "cell_type": "code",
   "execution_count": null,
   "metadata": {},
   "outputs": [],
   "source": [
    "#| hide\n",
    "#load the model and movie titles with indexes (from the previous data loaders)\n",
    "path = Path('../models_and_dls')\n",
    "learn = load_learner(path/'movie_predictor_large20mil_639.pkl')\n",
    "titles = pd.read_csv(path/'movie_20mil_dls.csv')"
   ]
  },
  {
   "cell_type": "code",
   "execution_count": null,
   "metadata": {},
   "outputs": [
    {
     "data": {
      "text/plain": [
       "['Beasts of the Southern Wild (2012)',\n",
       " 'Mina Tannenbaum (1994)',\n",
       " 'Triplets of Belleville, The (Les triplettes de Belleville) (2003)',\n",
       " 'Chasing Mavericks (2012)',\n",
       " 'Bye Bye Brazil (Bye Bye Brasil) (1980)',\n",
       " \"Tale of Winter, A (a.k.a. A Winter's Tale) (Conte d'hiver) (1992)\",\n",
       " 'Coonskin (1975)',\n",
       " 'Nanny, The (1965)',\n",
       " 'Trials of Henry Kissinger, The (2002)',\n",
       " 'Rain Fall (2009)',\n",
       " 'Hail, Caesar! (2016)',\n",
       " 'Freeway (1996)',\n",
       " 'Phantom Boy (2015)',\n",
       " 'The Attic (2008)',\n",
       " 'James and the Giant Peach (1996)',\n",
       " 'Song of the Sea (2014)',\n",
       " 'Bitter Tears of Petra von Kant, The (bitteren Tränen der Petra von Kant, Die) (1972)',\n",
       " 'The Ballad of Buster Scruggs (2018)',\n",
       " 'Bank Dick, The (1940)',\n",
       " 'Salvador (1986)',\n",
       " 'Go-Getter, The (2007)',\n",
       " 'Raining Stones (1993)',\n",
       " 'Easy Street (1917)',\n",
       " 'Scarlet Diva (2000)',\n",
       " 'Kings of Summer, The (2013)',\n",
       " 'My Side of the Mountain (1969)',\n",
       " 'Nashville (1975)',\n",
       " 'Fantastic Mr. Fox (2009)',\n",
       " 'After the Rehearsal (Efter repetitionen) (1984)',\n",
       " 'Touchy Feely (2013)']"
      ]
     },
     "execution_count": null,
     "metadata": {},
     "output_type": "execute_result"
    }
   ],
   "source": [
    "get_movie_recs(full_title='Beasts of the Southern Wild (2012)',learn=learn,titles=titles)"
   ]
  },
  {
   "cell_type": "code",
   "execution_count": null,
   "metadata": {},
   "outputs": [],
   "source": []
  }
 ],
 "metadata": {
  "kernelspec": {
   "display_name": "Python 3",
   "language": "python",
   "name": "python3"
  }
 },
 "nbformat": 4,
 "nbformat_minor": 4
}
