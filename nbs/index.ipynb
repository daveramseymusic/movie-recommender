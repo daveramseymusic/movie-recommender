{
 "cells": [
  {
   "cell_type": "code",
   "execution_count": null,
   "metadata": {},
   "outputs": [],
   "source": [
    "#|hide\n",
    "# import torch.nn as nn\n",
    "\n",
    "\n",
    "\n",
    "# # For modeling\n",
    "from fastai.tabular.all import *\n",
    "from fastai.collab import *\n",
    "\n",
    "# #for publishing the model\n",
    "# import gradio as gr"
   ]
  },
  {
   "cell_type": "code",
   "execution_count": null,
   "metadata": {},
   "outputs": [],
   "source": [
    "#| hide\n",
    "from movie_recommender.movie_recommender import *"
   ]
  },
  {
   "cell_type": "markdown",
   "metadata": {},
   "source": [
    "# movie-recommender\n",
    "\n",
    "> Movie Recommender based on Fast.AI Collaborative Filtering Model"
   ]
  },
  {
   "cell_type": "markdown",
   "metadata": {},
   "source": [
    "This file will become your README and also the index of your documentation."
   ]
  },
  {
   "cell_type": "markdown",
   "metadata": {},
   "source": [
    "## Install"
   ]
  },
  {
   "cell_type": "markdown",
   "metadata": {},
   "source": [
    "```sh\n",
    "pip install movie_recommender\n",
    "```"
   ]
  },
  {
   "cell_type": "markdown",
   "metadata": {},
   "source": [
    "## How to use"
   ]
  },
  {
   "cell_type": "markdown",
   "metadata": {},
   "source": [
    "This lib provides a `get_movie_recs` function to get movie recommendations similar to the movie saved in the `full_title` variable."
   ]
  },
  {
   "cell_type": "code",
   "execution_count": null,
   "metadata": {},
   "outputs": [
    {
     "data": {
      "text/html": [
       "<div>\n",
       "<style scoped>\n",
       "    .dataframe tbody tr th:only-of-type {\n",
       "        vertical-align: middle;\n",
       "    }\n",
       "\n",
       "    .dataframe tbody tr th {\n",
       "        vertical-align: top;\n",
       "    }\n",
       "\n",
       "    .dataframe thead th {\n",
       "        text-align: right;\n",
       "    }\n",
       "</style>\n",
       "<table border=\"1\" class=\"dataframe\">\n",
       "  <thead>\n",
       "    <tr style=\"text-align: right;\">\n",
       "      <th></th>\n",
       "      <th>midx</th>\n",
       "      <th>title</th>\n",
       "    </tr>\n",
       "  </thead>\n",
       "  <tbody>\n",
       "    <tr>\n",
       "      <th>0</th>\n",
       "      <td>0</td>\n",
       "      <td>#na#</td>\n",
       "    </tr>\n",
       "    <tr>\n",
       "      <th>1</th>\n",
       "      <td>1</td>\n",
       "      <td>'burbs, The (1989)</td>\n",
       "    </tr>\n",
       "    <tr>\n",
       "      <th>2</th>\n",
       "      <td>2</td>\n",
       "      <td>(500) Days of Summer (2009)</td>\n",
       "    </tr>\n",
       "    <tr>\n",
       "      <th>3</th>\n",
       "      <td>3</td>\n",
       "      <td>*batteries not included (1987)</td>\n",
       "    </tr>\n",
       "    <tr>\n",
       "      <th>4</th>\n",
       "      <td>4</td>\n",
       "      <td>...And Justice for All (1979)</td>\n",
       "    </tr>\n",
       "  </tbody>\n",
       "</table>\n",
       "</div>"
      ],
      "text/plain": [
       "   midx                           title\n",
       "0     0                            #na#\n",
       "1     1              'burbs, The (1989)\n",
       "2     2     (500) Days of Summer (2009)\n",
       "3     3  *batteries not included (1987)\n",
       "4     4   ...And Justice for All (1979)"
      ]
     },
     "execution_count": null,
     "metadata": {},
     "output_type": "execute_result"
    }
   ],
   "source": [
    "#| hide\n",
    "#load your the model and movie titles with indexes (from the previous data loaders)\n",
    "path = Path('../models_and_dls')\n",
    "learn = load_learner(path/'model_movie_predictor_large9mil_ds_19_062.pkl')\n",
    "titles = pd.read_csv(path/'movie_9mil_03_df_from_dls.csv'); titles.head()"
   ]
  },
  {
   "cell_type": "code",
   "execution_count": null,
   "metadata": {},
   "outputs": [
    {
     "data": {
      "text/plain": [
       "['Beasts of the Southern Wild (2012)',\n",
       " 'Ginger Snaps (2000)',\n",
       " 'Leaving Las Vegas (1995)',\n",
       " 'Being John Malkovich (1999)',\n",
       " 'Little Children (2006)',\n",
       " 'Ghost World (2001)',\n",
       " 'Yellow Submarine (1968)',\n",
       " 'Secret of Roan Inish, The (1994)',\n",
       " 'Louis C.K.: Live at The Comedy Store (2015)',\n",
       " 'Neon Genesis Evangelion: The End of Evangelion (Shin seiki Evangelion Gekijô-ban: Air/Magokoro wo, kimi ni) (1997)',\n",
       " 'Atlantic City (1980)',\n",
       " 'Z (1969)',\n",
       " 'Sex, Lies, and Videotape (1989)',\n",
       " 'Princess and the Warrior, The (Krieger und die Kaiserin, Der) (2000)',\n",
       " 'Act of Killing, The (2012)',\n",
       " 'Birdman: Or (The Unexpected Virtue of Ignorance) (2014)',\n",
       " '24 Hour Party People (2002)',\n",
       " 'Animal Kingdom (2010)',\n",
       " 'Breaking the Waves (1996)',\n",
       " 'Rushmore (1998)',\n",
       " 'Videodrome (1983)',\n",
       " 'Last Night (1998)',\n",
       " 'City of God (Cidade de Deus) (2002)',\n",
       " 'Nosferatu (Nosferatu, eine Symphonie des Grauens) (1922)',\n",
       " 'Shining, The (1980)',\n",
       " 'Underground (1995)',\n",
       " 'Proposition, The (2005)',\n",
       " 'Brothers Bloom, The (2008)',\n",
       " 'Exit Through the Gift Shop (2010)',\n",
       " 'Lost in Translation (2003)']"
      ]
     },
     "execution_count": null,
     "metadata": {},
     "output_type": "execute_result"
    }
   ],
   "source": [
    "get_movie_recs(full_title='Beasts of the Southern Wild (2012)',learn=learn,titles=titles)"
   ]
  },
  {
   "cell_type": "code",
   "execution_count": null,
   "metadata": {},
   "outputs": [],
   "source": []
  }
 ],
 "metadata": {
  "kernelspec": {
   "display_name": "Python 3",
   "language": "python",
   "name": "python3"
  }
 },
 "nbformat": 4,
 "nbformat_minor": 4
}
